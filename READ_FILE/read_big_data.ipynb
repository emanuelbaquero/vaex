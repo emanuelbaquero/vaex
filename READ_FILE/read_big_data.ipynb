{
 "cells": [
  {
   "cell_type": "code",
   "execution_count": 1,
   "metadata": {},
   "outputs": [],
   "source": [
    "import pandas as pd\n",
    "import numpy as np\n",
    "import pylab as p\n",
    "import vaex as vaex\n",
    "import vaex.ml\n",
    "import matplotlib.pyplot as plt\n",
    "import seaborn as sns\n",
    "import os\n",
    "import time\n",
    "import h5py"
   ]
  },
  {
   "cell_type": "code",
   "execution_count": null,
   "metadata": {},
   "outputs": [],
   "source": [
    "from vaex.ml.sklearn import Predictor, IncrementalPredictor\n",
    "# Regressions\n",
    "from sklearn.linear_model import LinearRegression, Ridge, Lasso, SGDClassifier, SGDRegressor\n",
    "from sklearn.svm import SVR\n",
    "from sklearn.ensemble import AdaBoostRegressor, GradientBoostingRegressor, RandomForestRegressor\n",
    "\n",
    "# Classifiers\n",
    "from sklearn.linear_model import LogisticRegression\n",
    "from sklearn.svm import SVC\n",
    "from sklearn.ensemble import AdaBoostClassifier, GradientBoostingClassifier, RandomForestClassifier"
   ]
  },
  {
   "cell_type": "code",
   "execution_count": null,
   "metadata": {},
   "outputs": [],
   "source": [
    "for i, df in enumerate(vaex.from_csv('movie_rating_portal.csv', chunk_size=200_000)):\n",
    "    print(i)\n",
    "    df.export_hdf5(f'movie_rating_portal_{i}.hdf5')"
   ]
  },
  {
   "cell_type": "code",
   "execution_count": null,
   "metadata": {},
   "outputs": [],
   "source": []
  },
  {
   "cell_type": "code",
   "execution_count": 2,
   "metadata": {},
   "outputs": [
    {
     "name": "stdout",
     "output_type": "stream",
     "text": [
      "movie_rating_portal_1.hdf5\n",
      "movie_rating_portal_2.hdf5\n",
      "movie_rating_portal_3.hdf5\n",
      "movie_rating_portal_4.hdf5\n",
      "movie_rating_portal_5.hdf5\n"
     ]
    }
   ],
   "source": [
    "df = vaex.open('movie_rating_portal_0.hdf5')\n",
    "for i in range(1,6):\n",
    "    i = str(i)\n",
    "    v_file= 'movie_rating_portal_'+i+'.hdf5'\n",
    "    print(v_file)\n",
    "    df = df.concat(vaex.open(v_file))"
   ]
  },
  {
   "cell_type": "code",
   "execution_count": null,
   "metadata": {},
   "outputs": [],
   "source": []
  },
  {
   "cell_type": "code",
   "execution_count": 3,
   "metadata": {},
   "outputs": [],
   "source": [
    "id_df_max = len(df)\n",
    "numero_inicial = 0\n",
    "df_lista = []\n",
    "for i in range(0, int(id_df_max/200000)):\n",
    "    numero_inicial\n",
    "    numero_final = numero_inicial+200000\n",
    "    df_lista.append(df[numero_inicial:numero_final,:])\n",
    "    numero_inicial = numero_inicial+200000"
   ]
  },
  {
   "cell_type": "code",
   "execution_count": 5,
   "metadata": {},
   "outputs": [
    {
     "data": {
      "text/plain": [
       "5"
      ]
     },
     "execution_count": 5,
     "metadata": {},
     "output_type": "execute_result"
    }
   ],
   "source": [
    "len(df_lista)"
   ]
  },
  {
   "cell_type": "code",
   "execution_count": 6,
   "metadata": {},
   "outputs": [],
   "source": [
    "df_lista[0].export_csv('movie_rate_0.csv',sep='|')"
   ]
  },
  {
   "cell_type": "code",
   "execution_count": 7,
   "metadata": {},
   "outputs": [],
   "source": [
    "df_lista[1].export_csv('movie_rate_1.csv',sep='|')"
   ]
  },
  {
   "cell_type": "code",
   "execution_count": 4,
   "metadata": {},
   "outputs": [],
   "source": [
    "df_lista[2].export_csv('movie_rate_2.csv',sep='|')"
   ]
  },
  {
   "cell_type": "code",
   "execution_count": 5,
   "metadata": {},
   "outputs": [],
   "source": [
    "df_lista[3].export_csv('movie_rate_3.csv',sep='|')"
   ]
  },
  {
   "cell_type": "code",
   "execution_count": 4,
   "metadata": {},
   "outputs": [],
   "source": [
    "df_lista[4].export_csv('movie_rate_4.csv',sep='|')"
   ]
  },
  {
   "cell_type": "code",
   "execution_count": null,
   "metadata": {},
   "outputs": [],
   "source": []
  },
  {
   "cell_type": "code",
   "execution_count": 3,
   "metadata": {},
   "outputs": [],
   "source": [
    "big = df.concat(df.concat(df.concat(df)))"
   ]
  },
  {
   "cell_type": "code",
   "execution_count": 2,
   "metadata": {},
   "outputs": [
    {
     "ename": "NameError",
     "evalue": "name 'big' is not defined",
     "output_type": "error",
     "traceback": [
      "\u001b[0;31m---------------------------------------------------------------------------\u001b[0m",
      "\u001b[0;31mNameError\u001b[0m                                 Traceback (most recent call last)",
      "\u001b[0;32m<ipython-input-2-e01739e5c8e8>\u001b[0m in \u001b[0;36m<module>\u001b[0;34m\u001b[0m\n\u001b[0;32m----> 1\u001b[0;31m \u001b[0mbig\u001b[0m\u001b[0;34m.\u001b[0m\u001b[0mshape\u001b[0m\u001b[0;34m\u001b[0m\u001b[0;34m\u001b[0m\u001b[0m\n\u001b[0m",
      "\u001b[0;31mNameError\u001b[0m: name 'big' is not defined"
     ]
    }
   ],
   "source": [
    "big.shape"
   ]
  },
  {
   "cell_type": "code",
   "execution_count": 6,
   "metadata": {},
   "outputs": [
    {
     "name": "stdout",
     "output_type": "stream",
     "text": [
      "[################################--------] 100.00% elapsed time  :     0.76s =  0.0m =  0.0h\n",
      " "
     ]
    },
    {
     "data": {
      "text/plain": [
       "Mad Max: Fury Road                               25872\n",
       "12 Years a Slave                                 18072\n",
       "The Grand Budapest Hotel                         16212\n",
       "The Lord of the Rings: The Return of the King    16044\n",
       "Blade Runner 2049                                14280\n",
       "                                                 ...  \n",
       "So Red the Rose                                      4\n",
       "The Severed Arm                                      4\n",
       "The Sex Adventures of the Three Musketeers           4\n",
       "The Sex Therapist                                    4\n",
       "Sözün Bittigi Yer                                    4\n",
       "Length: 57028, dtype: int64"
      ]
     },
     "execution_count": 6,
     "metadata": {},
     "output_type": "execute_result"
    }
   ],
   "source": [
    "big.Title.value_counts(progress=True)"
   ]
  },
  {
   "cell_type": "code",
   "execution_count": 7,
   "metadata": {},
   "outputs": [
    {
     "data": {
      "text/html": [
       "<table>\n",
       "<thead>\n",
       "<tr><th>#                                    </th><th>Unnamed: 0  </th><th>ID_x  </th><th>Budget     </th><th>StudioInterference  </th><th>PrePremiereScreenings  </th><th>HeavyMarketing  </th><th>RuntimeMinutes  </th><th>Title                </th><th>IDImdb   </th><th>ReleaseDate  </th><th>Description                                        </th><th>Keywords  </th><th>Certification  </th><th>Lanuguages  </th><th>Filming locations  </th><th>Technical specs  </th><th>IDTmdb  </th><th>IDDataLens  </th><th>IDCollection  </th><th>IDGenre  </th><th>IDMovie_x  </th><th>id  </th><th>Name_x   </th><th>ID_y    </th><th>IDAwardType  </th><th>Category                                           </th><th>IDMovie_y  </th><th>IDMovie  </th><th>IDMoviePortal  </th><th>Rate  </th><th>Votes  </th><th>ID  </th><th>Name_y      </th><th>Homepage    </th></tr>\n",
       "</thead>\n",
       "<tbody>\n",
       "<tr><td><i style='opacity: 0.6'>0</i>        </td><td>8           </td><td>69604 </td><td>1700000.0  </td><td>nan                 </td><td>nan                    </td><td>nan             </td><td>113             </td><td>Hawmps!              </td><td>tt0074614</td><td>1976-05-20   </td><td>&#x27;{In 1854, at Fort Val Verde, Texas, the U.S. Ca...</td><td>None      </td><td>None           </td><td>nan         </td><td>nan                </td><td>nan              </td><td>23380   </td><td>nan         </td><td>nan           </td><td>15       </td><td>69604      </td><td>15  </td><td>Western  </td><td>nan     </td><td>nan          </td><td>None                                               </td><td>nan        </td><td>69604    </td><td>1              </td><td>5.2   </td><td>272    </td><td>1   </td><td>Imdb        </td><td>imdb        </td></tr>\n",
       "<tr><td><i style='opacity: 0.6'>1</i>        </td><td>9           </td><td>103813</td><td>30000000.0 </td><td>nan                 </td><td>nan                    </td><td>nan             </td><td>98              </td><td>Wild Bill            </td><td>tt0114938</td><td>1995-12-01   </td><td>&#x27;{The early career of legendary lawman Wild Bill...</td><td>None      </td><td>R              </td><td>nan         </td><td>nan                </td><td>nan              </td><td>65796   </td><td>210.0       </td><td>nan           </td><td>15       </td><td>103813     </td><td>15  </td><td>Western  </td><td>nan     </td><td>nan          </td><td>None                                               </td><td>nan        </td><td>103813   </td><td>1              </td><td>5.9   </td><td>5631   </td><td>1   </td><td>Imdb        </td><td>imdb        </td></tr>\n",
       "<tr><td><i style='opacity: 0.6'>2</i>        </td><td>17          </td><td>49959 </td><td>1538000.0  </td><td>nan                 </td><td>nan                    </td><td>nan             </td><td>86              </td><td>The Law and Jake Wade</td><td>tt0051848</td><td>1958-11-22   </td><td>&#x27;{Marshal Jake Wade aids outlaw Clint Hollister ...</td><td>None      </td><td>None           </td><td>nan         </td><td>nan                </td><td>nan              </td><td>44766   </td><td>nan         </td><td>nan           </td><td>15       </td><td>49959      </td><td>15  </td><td>Western  </td><td>nan     </td><td>nan          </td><td>None                                               </td><td>nan        </td><td>49959    </td><td>1              </td><td>6.8   </td><td>1787   </td><td>1   </td><td>Imdb        </td><td>imdb        </td></tr>\n",
       "<tr><td><i style='opacity: 0.6'>3</i>        </td><td>18          </td><td>40287 </td><td>1754000.0  </td><td>nan                 </td><td>nan                    </td><td>nan             </td><td>90              </td><td>Ambush               </td><td>tt0041117</td><td>1950-01-13   </td><td>&#x27;{In 1878, Ward Kinsman, a prospector and Indian...</td><td>None      </td><td>None           </td><td>nan         </td><td>nan                </td><td>nan              </td><td>151310  </td><td>nan         </td><td>nan           </td><td>15       </td><td>40287      </td><td>15  </td><td>Western  </td><td>nan     </td><td>nan          </td><td>None                                               </td><td>nan        </td><td>40287    </td><td>1              </td><td>6.5   </td><td>429    </td><td>1   </td><td>Imdb        </td><td>imdb        </td></tr>\n",
       "<tr><td><i style='opacity: 0.6'>4</i>        </td><td>21          </td><td>353904</td><td>2000000.0  </td><td>nan                 </td><td>nan                    </td><td>nan             </td><td>104             </td><td>The Proposition      </td><td>tt0421238</td><td>2005-10-06   </td><td>&#x27;{A lawman apprehends a notorious outlaw and giv...</td><td>None      </td><td>R              </td><td>nan         </td><td>nan                </td><td>nan              </td><td>16608   </td><td>39381.0     </td><td>nan           </td><td>15       </td><td>353904     </td><td>15  </td><td>Western  </td><td>5483.0  </td><td>73.0         </td><td>discovery of the year                              </td><td>353904.0   </td><td>353904   </td><td>1              </td><td>7.4   </td><td>46204  </td><td>1   </td><td>Imdb        </td><td>imdb        </td></tr>\n",
       "<tr><td>...                                  </td><td>...         </td><td>...   </td><td>...        </td><td>...                 </td><td>...                    </td><td>...             </td><td>...             </td><td>...                  </td><td>...      </td><td>...          </td><td>...                                                </td><td>...       </td><td>...            </td><td>...         </td><td>...                </td><td>...              </td><td>...     </td><td>...         </td><td>...           </td><td>...      </td><td>...        </td><td>... </td><td>...      </td><td>...     </td><td>...          </td><td>...                                                </td><td>...        </td><td>...      </td><td>...            </td><td>...   </td><td>...    </td><td>... </td><td>...         </td><td>...         </td></tr>\n",
       "<tr><td><i style='opacity: 0.6'>2,888,547</i></td><td>1094175     </td><td>356153</td><td>149000000.0</td><td>nan                 </td><td>nan                    </td><td>nan             </td><td>85              </td><td>Flushed Away         </td><td>tt0424095</td><td>2006-12-01   </td><td>&#x27;{The story of an uptown rat that gets flushed d...</td><td>None      </td><td>PG             </td><td>nan         </td><td>nan                </td><td>nan              </td><td>11619   </td><td>48982.0     </td><td>nan           </td><td>3        </td><td>356153     </td><td>3   </td><td>Animation</td><td>356679.0</td><td>4865.0       </td><td>best character animation in a feature production   </td><td>356153.0   </td><td>356153   </td><td>5              </td><td>7.6   </td><td>28     </td><td>5   </td><td>RottenCritic</td><td>RottenCritic</td></tr>\n",
       "<tr><td><i style='opacity: 0.6'>2,888,548</i></td><td>1094176     </td><td>356153</td><td>149000000.0</td><td>nan                 </td><td>nan                    </td><td>nan             </td><td>85              </td><td>Flushed Away         </td><td>tt0424095</td><td>2006-12-01   </td><td>&#x27;{The story of an uptown rat that gets flushed d...</td><td>None      </td><td>PG             </td><td>nan         </td><td>nan                </td><td>nan              </td><td>11619   </td><td>48982.0     </td><td>nan           </td><td>3        </td><td>356153     </td><td>3   </td><td>Animation</td><td>356701.0</td><td>4865.0       </td><td>&#x27;best production design in an animated feature p...</td><td>356153.0   </td><td>356153   </td><td>5              </td><td>7.6   </td><td>28     </td><td>5   </td><td>RottenCritic</td><td>RottenCritic</td></tr>\n",
       "<tr><td><i style='opacity: 0.6'>2,888,549</i></td><td>1094177     </td><td>356153</td><td>149000000.0</td><td>nan                 </td><td>nan                    </td><td>nan             </td><td>85              </td><td>Flushed Away         </td><td>tt0424095</td><td>2006-12-01   </td><td>&#x27;{The story of an uptown rat that gets flushed d...</td><td>None      </td><td>PG             </td><td>nan         </td><td>nan                </td><td>nan              </td><td>11619   </td><td>48982.0     </td><td>nan           </td><td>3        </td><td>356153     </td><td>3   </td><td>Animation</td><td>356707.0</td><td>4865.0       </td><td>&#x27;best storyboarding in an animated feature produ...</td><td>356153.0   </td><td>356153   </td><td>5              </td><td>7.6   </td><td>28     </td><td>5   </td><td>RottenCritic</td><td>RottenCritic</td></tr>\n",
       "<tr><td><i style='opacity: 0.6'>2,888,550</i></td><td>1094178     </td><td>356153</td><td>149000000.0</td><td>nan                 </td><td>nan                    </td><td>nan             </td><td>85              </td><td>Flushed Away         </td><td>tt0424095</td><td>2006-12-01   </td><td>&#x27;{The story of an uptown rat that gets flushed d...</td><td>None      </td><td>PG             </td><td>nan         </td><td>nan                </td><td>nan              </td><td>11619   </td><td>48982.0     </td><td>nan           </td><td>3        </td><td>356153     </td><td>3   </td><td>Animation</td><td>356712.0</td><td>4865.0       </td><td>&#x27;best voice acting in an animated feature produc...</td><td>356153.0   </td><td>356153   </td><td>5              </td><td>7.6   </td><td>28     </td><td>5   </td><td>RottenCritic</td><td>RottenCritic</td></tr>\n",
       "<tr><td><i style='opacity: 0.6'>2,888,551</i></td><td>1094179     </td><td>356153</td><td>149000000.0</td><td>nan                 </td><td>nan                    </td><td>nan             </td><td>85              </td><td>Flushed Away         </td><td>tt0424095</td><td>2006-12-01   </td><td>&#x27;{The story of an uptown rat that gets flushed d...</td><td>None      </td><td>PG             </td><td>nan         </td><td>nan                </td><td>nan              </td><td>11619   </td><td>48982.0     </td><td>nan           </td><td>3        </td><td>356153     </td><td>3   </td><td>Animation</td><td>375446.0</td><td>5007.0       </td><td>best animated film                                 </td><td>356153.0   </td><td>356153   </td><td>5              </td><td>7.6   </td><td>28     </td><td>5   </td><td>RottenCritic</td><td>RottenCritic</td></tr>\n",
       "</tbody>\n",
       "</table>"
      ],
      "text/plain": [
       "#          Unnamed: 0    ID_x    Budget       StudioInterference    PrePremiereScreenings    HeavyMarketing    RuntimeMinutes    Title                  IDImdb     ReleaseDate    Description                                          Keywords    Certification    Lanuguages    Filming locations    Technical specs    IDTmdb    IDDataLens    IDCollection    IDGenre    IDMovie_x    id    Name_x     ID_y      IDAwardType    Category                                             IDMovie_y    IDMovie    IDMoviePortal    Rate    Votes    ID    Name_y        Homepage\n",
       "0          8             69604   1700000.0    nan                   nan                      nan               113               Hawmps!                tt0074614  1976-05-20     '{In 1854, at Fort Val Verde, Texas, the U.S. Ca...  None        None             nan           nan                  nan                23380     nan           nan             15         69604        15    Western    nan       nan            None                                                 nan          69604      1                5.2     272      1     Imdb          imdb\n",
       "1          9             103813  30000000.0   nan                   nan                      nan               98                Wild Bill              tt0114938  1995-12-01     '{The early career of legendary lawman Wild Bill...  None        R                nan           nan                  nan                65796     210.0         nan             15         103813       15    Western    nan       nan            None                                                 nan          103813     1                5.9     5631     1     Imdb          imdb\n",
       "2          17            49959   1538000.0    nan                   nan                      nan               86                The Law and Jake Wade  tt0051848  1958-11-22     '{Marshal Jake Wade aids outlaw Clint Hollister ...  None        None             nan           nan                  nan                44766     nan           nan             15         49959        15    Western    nan       nan            None                                                 nan          49959      1                6.8     1787     1     Imdb          imdb\n",
       "3          18            40287   1754000.0    nan                   nan                      nan               90                Ambush                 tt0041117  1950-01-13     '{In 1878, Ward Kinsman, a prospector and Indian...  None        None             nan           nan                  nan                151310    nan           nan             15         40287        15    Western    nan       nan            None                                                 nan          40287      1                6.5     429      1     Imdb          imdb\n",
       "4          21            353904  2000000.0    nan                   nan                      nan               104               The Proposition        tt0421238  2005-10-06     '{A lawman apprehends a notorious outlaw and giv...  None        R                nan           nan                  nan                16608     39381.0       nan             15         353904       15    Western    5483.0    73.0           discovery of the year                                353904.0     353904     1                7.4     46204    1     Imdb          imdb\n",
       "...        ...           ...     ...          ...                   ...                      ...               ...               ...                    ...        ...            ...                                                  ...         ...              ...           ...                  ...                ...       ...           ...             ...        ...          ...   ...        ...       ...            ...                                                  ...          ...        ...              ...     ...      ...   ...           ...\n",
       "2,888,547  1094175       356153  149000000.0  nan                   nan                      nan               85                Flushed Away           tt0424095  2006-12-01     '{The story of an uptown rat that gets flushed d...  None        PG               nan           nan                  nan                11619     48982.0       nan             3          356153       3     Animation  356679.0  4865.0         best character animation in a feature production     356153.0     356153     5                7.6     28       5     RottenCritic  RottenCritic\n",
       "2,888,548  1094176       356153  149000000.0  nan                   nan                      nan               85                Flushed Away           tt0424095  2006-12-01     '{The story of an uptown rat that gets flushed d...  None        PG               nan           nan                  nan                11619     48982.0       nan             3          356153       3     Animation  356701.0  4865.0         'best production design in an animated feature p...  356153.0     356153     5                7.6     28       5     RottenCritic  RottenCritic\n",
       "2,888,549  1094177       356153  149000000.0  nan                   nan                      nan               85                Flushed Away           tt0424095  2006-12-01     '{The story of an uptown rat that gets flushed d...  None        PG               nan           nan                  nan                11619     48982.0       nan             3          356153       3     Animation  356707.0  4865.0         'best storyboarding in an animated feature produ...  356153.0     356153     5                7.6     28       5     RottenCritic  RottenCritic\n",
       "2,888,550  1094178       356153  149000000.0  nan                   nan                      nan               85                Flushed Away           tt0424095  2006-12-01     '{The story of an uptown rat that gets flushed d...  None        PG               nan           nan                  nan                11619     48982.0       nan             3          356153       3     Animation  356712.0  4865.0         'best voice acting in an animated feature produc...  356153.0     356153     5                7.6     28       5     RottenCritic  RottenCritic\n",
       "2,888,551  1094179       356153  149000000.0  nan                   nan                      nan               85                Flushed Away           tt0424095  2006-12-01     '{The story of an uptown rat that gets flushed d...  None        PG               nan           nan                  nan                11619     48982.0       nan             3          356153       3     Animation  375446.0  5007.0         best animated film                                   356153.0     356153     5                7.6     28       5     RottenCritic  RottenCritic"
      ]
     },
     "execution_count": 7,
     "metadata": {},
     "output_type": "execute_result"
    }
   ],
   "source": [
    "big[big.Budget.notnan()]"
   ]
  },
  {
   "cell_type": "code",
   "execution_count": null,
   "metadata": {},
   "outputs": [],
   "source": []
  },
  {
   "cell_type": "code",
   "execution_count": null,
   "metadata": {},
   "outputs": [],
   "source": []
  },
  {
   "cell_type": "code",
   "execution_count": 36,
   "metadata": {},
   "outputs": [
    {
     "data": {
      "text/plain": [
       "<matplotlib.axes._subplots.AxesSubplot at 0x7f5c38374e80>"
      ]
     },
     "execution_count": 36,
     "metadata": {},
     "output_type": "execute_result"
    },
    {
     "data": {
      "image/png": "[encoded data removed]",
      "text/plain": [
       "<Figure size 432x288 with 1 Axes>"
      ]
     },
     "metadata": {
      "needs_background": "light"
     },
     "output_type": "display_data"
    }
   ],
   "source": [
    "pd.DataFrame(df.Name_x.value_counts()).reset_index().plot.bar(rot=0)"
   ]
  },
  {
   "cell_type": "code",
   "execution_count": 37,
   "metadata": {},
   "outputs": [
    {
     "data": {
      "text/html": [
       "<div>\n",
       "<style scoped>\n",
       "    .dataframe tbody tr th:only-of-type {\n",
       "        vertical-align: middle;\n",
       "    }\n",
       "\n",
       "    .dataframe tbody tr th {\n",
       "        vertical-align: top;\n",
       "    }\n",
       "\n",
       "    .dataframe thead th {\n",
       "        text-align: right;\n",
       "    }\n",
       "</style>\n",
       "<table border=\"1\" class=\"dataframe\">\n",
       "  <thead>\n",
       "    <tr style=\"text-align: right;\">\n",
       "      <th></th>\n",
       "      <th>index</th>\n",
       "      <th>0</th>\n",
       "    </tr>\n",
       "  </thead>\n",
       "  <tbody>\n",
       "    <tr>\n",
       "      <th>0</th>\n",
       "      <td>Drama</td>\n",
       "      <td>266740</td>\n",
       "    </tr>\n",
       "    <tr>\n",
       "      <th>1</th>\n",
       "      <td>Comedy</td>\n",
       "      <td>121607</td>\n",
       "    </tr>\n",
       "    <tr>\n",
       "      <th>2</th>\n",
       "      <td>Adventure</td>\n",
       "      <td>114462</td>\n",
       "    </tr>\n",
       "    <tr>\n",
       "      <th>3</th>\n",
       "      <td>Action</td>\n",
       "      <td>97116</td>\n",
       "    </tr>\n",
       "    <tr>\n",
       "      <th>4</th>\n",
       "      <td>Romance</td>\n",
       "      <td>65495</td>\n",
       "    </tr>\n",
       "    <tr>\n",
       "      <th>5</th>\n",
       "      <td>Crime</td>\n",
       "      <td>56025</td>\n",
       "    </tr>\n",
       "    <tr>\n",
       "      <th>6</th>\n",
       "      <td>Thriller</td>\n",
       "      <td>54629</td>\n",
       "    </tr>\n",
       "    <tr>\n",
       "      <th>7</th>\n",
       "      <td>Biography</td>\n",
       "      <td>44056</td>\n",
       "    </tr>\n",
       "    <tr>\n",
       "      <th>8</th>\n",
       "      <td>Fantasy</td>\n",
       "      <td>40419</td>\n",
       "    </tr>\n",
       "    <tr>\n",
       "      <th>9</th>\n",
       "      <td>Sci-Fi</td>\n",
       "      <td>37903</td>\n",
       "    </tr>\n",
       "    <tr>\n",
       "      <th>10</th>\n",
       "      <td>Animation</td>\n",
       "      <td>37820</td>\n",
       "    </tr>\n",
       "    <tr>\n",
       "      <th>11</th>\n",
       "      <td>Mystery</td>\n",
       "      <td>30026</td>\n",
       "    </tr>\n",
       "    <tr>\n",
       "      <th>12</th>\n",
       "      <td>Horror</td>\n",
       "      <td>29364</td>\n",
       "    </tr>\n",
       "    <tr>\n",
       "      <th>13</th>\n",
       "      <td>History</td>\n",
       "      <td>28068</td>\n",
       "    </tr>\n",
       "    <tr>\n",
       "      <th>14</th>\n",
       "      <td>Family</td>\n",
       "      <td>27820</td>\n",
       "    </tr>\n",
       "    <tr>\n",
       "      <th>15</th>\n",
       "      <td>War</td>\n",
       "      <td>11295</td>\n",
       "    </tr>\n",
       "    <tr>\n",
       "      <th>16</th>\n",
       "      <td>Music</td>\n",
       "      <td>10332</td>\n",
       "    </tr>\n",
       "    <tr>\n",
       "      <th>17</th>\n",
       "      <td>Musical</td>\n",
       "      <td>10247</td>\n",
       "    </tr>\n",
       "    <tr>\n",
       "      <th>18</th>\n",
       "      <td>Sport</td>\n",
       "      <td>5611</td>\n",
       "    </tr>\n",
       "    <tr>\n",
       "      <th>19</th>\n",
       "      <td>Western</td>\n",
       "      <td>3973</td>\n",
       "    </tr>\n",
       "    <tr>\n",
       "      <th>20</th>\n",
       "      <td>Film-Noir</td>\n",
       "      <td>1172</td>\n",
       "    </tr>\n",
       "  </tbody>\n",
       "</table>\n",
       "</div>"
      ],
      "text/plain": [
       "        index       0\n",
       "0       Drama  266740\n",
       "1      Comedy  121607\n",
       "2   Adventure  114462\n",
       "3      Action   97116\n",
       "4     Romance   65495\n",
       "5       Crime   56025\n",
       "6    Thriller   54629\n",
       "7   Biography   44056\n",
       "8     Fantasy   40419\n",
       "9      Sci-Fi   37903\n",
       "10  Animation   37820\n",
       "11    Mystery   30026\n",
       "12     Horror   29364\n",
       "13    History   28068\n",
       "14     Family   27820\n",
       "15        War   11295\n",
       "16      Music   10332\n",
       "17    Musical   10247\n",
       "18      Sport    5611\n",
       "19    Western    3973\n",
       "20  Film-Noir    1172"
      ]
     },
     "execution_count": 37,
     "metadata": {},
     "output_type": "execute_result"
    }
   ],
   "source": [
    "pd.DataFrame(df.Name_x.value_counts()).reset_index()"
   ]
  },
  {
   "cell_type": "code",
   "execution_count": null,
   "metadata": {},
   "outputs": [],
   "source": []
  },
  {
   "cell_type": "code",
   "execution_count": null,
   "metadata": {},
   "outputs": [],
   "source": []
  },
  {
   "cell_type": "code",
   "execution_count": 61,
   "metadata": {},
   "outputs": [],
   "source": [
    "df = df[:,1:]\n",
    "df = df[df.Budget.notnan()]"
   ]
  },
  {
   "cell_type": "code",
   "execution_count": 99,
   "metadata": {},
   "outputs": [
    {
     "data": {
      "text/plain": [
       "(11637,)"
      ]
     },
     "execution_count": 99,
     "metadata": {},
     "output_type": "execute_result"
    }
   ],
   "source": [
    "df.Title.unique().shape"
   ]
  },
  {
   "cell_type": "code",
   "execution_count": 100,
   "metadata": {},
   "outputs": [],
   "source": [
    "horas_curso = 38+240+20+60+28+39+5+42"
   ]
  },
  {
   "cell_type": "code",
   "execution_count": 103,
   "metadata": {},
   "outputs": [],
   "source": [
    "horas_curso = que_es_esto/60"
   ]
  },
  {
   "cell_type": "code",
   "execution_count": 106,
   "metadata": {},
   "outputs": [
    {
     "data": {
      "text/plain": [
       "5.75"
      ]
     },
     "execution_count": 106,
     "metadata": {},
     "output_type": "execute_result"
    }
   ],
   "source": [
    "23/4"
   ]
  },
  {
   "cell_type": "code",
   "execution_count": null,
   "metadata": {},
   "outputs": [],
   "source": [
    "## REGRESION"
   ]
  },
  {
   "cell_type": "code",
   "execution_count": null,
   "metadata": {},
   "outputs": [],
   "source": [
    "df0 = vaex.open('T201704.hdf5')\n",
    "df1 = vaex.open('T201705.hdf5')\n",
    "df = df0.concat(df1)"
   ]
  },
  {
   "cell_type": "code",
   "execution_count": null,
   "metadata": {},
   "outputs": [],
   "source": [
    "df.columns"
   ]
  },
  {
   "cell_type": "code",
   "execution_count": null,
   "metadata": {},
   "outputs": [],
   "source": [
    "features = ['practice','bnf_code','bnf_name','items','nic','act_cost']"
   ]
  },
  {
   "cell_type": "code",
   "execution_count": null,
   "metadata": {},
   "outputs": [],
   "source": [
    "df.ml.train_test_split()"
   ]
  },
  {
   "cell_type": "code",
   "execution_count": null,
   "metadata": {},
   "outputs": [],
   "source": [
    "test, train = df.ml.train_test_split(test_size=0.9)"
   ]
  },
  {
   "cell_type": "code",
   "execution_count": null,
   "metadata": {},
   "outputs": [],
   "source": [
    "model = Predictor(model=LinearRegression(), features=features, target='quantity')"
   ]
  },
  {
   "cell_type": "code",
   "execution_count": null,
   "metadata": {},
   "outputs": [],
   "source": [
    "model.fit(train)"
   ]
  },
  {
   "cell_type": "code",
   "execution_count": null,
   "metadata": {},
   "outputs": [],
   "source": []
  },
  {
   "cell_type": "code",
   "execution_count": null,
   "metadata": {},
   "outputs": [],
   "source": []
  },
  {
   "cell_type": "code",
   "execution_count": null,
   "metadata": {},
   "outputs": [],
   "source": []
  }
 ],
 "metadata": {
  "kernelspec": {
   "display_name": "Python 3",
   "language": "python",
   "name": "python3"
  },
  "language_info": {
   "codemirror_mode": {
    "name": "ipython",
    "version": 3
   },
   "file_extension": ".py",
   "mimetype": "text/x-python",
   "name": "python",
   "nbconvert_exporter": "python",
   "pygments_lexer": "ipython3",
   "version": "3.6.9"
  }
 },
 "nbformat": 4,
 "nbformat_minor": 4
}
